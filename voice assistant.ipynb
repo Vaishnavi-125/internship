{
 "cells": [
  {
   "cell_type": "code",
   "execution_count": 1,
   "id": "40a54ccd",
   "metadata": {},
   "outputs": [
    {
     "name": "stdout",
     "output_type": "stream",
     "text": [
      "Requirement already satisfied: SpeechRecognition in c:\\users\\vaish\\anaconda3\\lib\\site-packages (3.10.4)Note: you may need to restart the kernel to use updated packages.\n",
      "\n",
      "Requirement already satisfied: pyttsx3 in c:\\users\\vaish\\anaconda3\\lib\\site-packages (2.90)\n",
      "Requirement already satisfied: requests in c:\\users\\vaish\\anaconda3\\lib\\site-packages (2.28.1)\n",
      "Requirement already satisfied: typing-extensions in c:\\users\\vaish\\anaconda3\\lib\\site-packages (from SpeechRecognition) (4.3.0)\n",
      "Requirement already satisfied: comtypes in c:\\users\\vaish\\anaconda3\\lib\\site-packages (from pyttsx3) (1.1.10)\n",
      "Requirement already satisfied: pywin32 in c:\\users\\vaish\\anaconda3\\lib\\site-packages (from pyttsx3) (302)\n",
      "Requirement already satisfied: pypiwin32 in c:\\users\\vaish\\anaconda3\\lib\\site-packages (from pyttsx3) (223)\n",
      "Requirement already satisfied: certifi>=2017.4.17 in c:\\users\\vaish\\anaconda3\\lib\\site-packages (from requests) (2022.9.14)\n",
      "Requirement already satisfied: charset-normalizer<3,>=2 in c:\\users\\vaish\\anaconda3\\lib\\site-packages (from requests) (2.0.4)\n",
      "Requirement already satisfied: urllib3<1.27,>=1.21.1 in c:\\users\\vaish\\anaconda3\\lib\\site-packages (from requests) (1.26.11)\n",
      "Requirement already satisfied: idna<4,>=2.5 in c:\\users\\vaish\\anaconda3\\lib\\site-packages (from requests) (3.3)\n"
     ]
    }
   ],
   "source": [
    "pip install SpeechRecognition pyttsx3 requests"
   ]
  },
  {
   "cell_type": "code",
   "execution_count": null,
   "id": "4a0ac400",
   "metadata": {},
   "outputs": [
    {
     "name": "stdout",
     "output_type": "stream",
     "text": [
      "Listening...\n",
      "You said: hello I am Srinagar\n",
      "Listening...\n",
      "Listening...\n",
      "You said: Shivratri\n",
      "Listening...\n",
      "You said: is there Shivratri\n",
      "Listening...\n",
      "You said: hi how are you\n",
      "Listening...\n",
      "Listening...\n",
      "Listening...\n",
      "Listening...\n",
      "Listening...\n",
      "Listening...\n",
      "You said: responsible for\n",
      "Listening...\n",
      "You said: Gemini\n",
      "Listening...\n"
     ]
    }
   ],
   "source": [
    "import speech_recognition as sr\n",
    "import pyttsx3\n",
    "import datetime\n",
    "import requests\n",
    "\n",
    "# Initialize text-to-speech engine\n",
    "engine = pyttsx3.init()\n",
    "\n",
    "def speak(text):\n",
    "    engine.say(text)\n",
    "    engine.runAndWait()\n",
    "\n",
    "def listen():\n",
    "    recognizer = sr.Recognizer()\n",
    "    with sr.Microphone() as source:\n",
    "        print(\"Listening...\")\n",
    "        audio = recognizer.listen(source)\n",
    "        try:\n",
    "            command = recognizer.recognize_google(audio)\n",
    "            print(f\"You said: {command}\")\n",
    "            return command.lower()\n",
    "        except sr.UnknownValueError:\n",
    "            speak(\"Sorry, I did not understand that.\")\n",
    "            return \"\"\n",
    "        except sr.RequestError:\n",
    "            speak(\"Sorry, there was a problem with the speech recognition service.\")\n",
    "            return \"\"\n",
    "\n",
    "def handle_command(command):\n",
    "    if \"hello\" in command:\n",
    "        speak(\"Hello! How can I assist you today?\")\n",
    "    elif \"time\" in command:\n",
    "        now = datetime.datetime.now()\n",
    "        speak(f\"The current time is {now.strftime('%H:%M:%S')}\")\n",
    "    elif \"date\" in command:\n",
    "        today = datetime.date.today()\n",
    "        speak(f\"Today's date is {today.strftime('%Y-%m-%d')}\")\n",
    "    elif \"search\" in command:\n",
    "        query = command.replace(\"search\", \"\").strip()\n",
    "        search_web(query)\n",
    "    else:\n",
    "        speak(\"Sorry, I can't help with that.\")\n",
    "\n",
    "def search_web(query):\n",
    "    response = requests.get(f\"https://api.duckduckgo.com/?q={query}&format=json\")\n",
    "    if response.status_code == 200:\n",
    "        data = response.json()\n",
    "        answer = data.get('AbstractText', 'No information found.')\n",
    "        speak(answer)\n",
    "    else:\n",
    "        speak(\"Sorry, there was an error searching the web.\")\n",
    "\n",
    "if __name__ == \"__main__\":\n",
    "    while True:\n",
    "        command = listen()\n",
    "        if command:\n",
    "            handle_command(command)"
   ]
  },
  {
   "cell_type": "code",
   "execution_count": null,
   "id": "3c682ef1",
   "metadata": {},
   "outputs": [],
   "source": []
  }
 ],
 "metadata": {
  "kernelspec": {
   "display_name": "Python 3 (ipykernel)",
   "language": "python",
   "name": "python3"
  },
  "language_info": {
   "codemirror_mode": {
    "name": "ipython",
    "version": 3
   },
   "file_extension": ".py",
   "mimetype": "text/x-python",
   "name": "python",
   "nbconvert_exporter": "python",
   "pygments_lexer": "ipython3",
   "version": "3.9.13"
  }
 },
 "nbformat": 4,
 "nbformat_minor": 5
}
