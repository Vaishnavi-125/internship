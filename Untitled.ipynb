{
 "cells": [
  {
   "cell_type": "code",
   "execution_count": 2,
   "id": "db57c0f0",
   "metadata": {},
   "outputs": [
    {
     "name": "stdout",
     "output_type": "stream",
     "text": [
      "Requirement already satisfied: pyperclip in c:\\users\\vaish\\anaconda3\\lib\\site-packages (1.9.0)\n",
      "Note: you may need to restart the kernel to use updated packages.\n"
     ]
    }
   ],
   "source": [
    "pip install pyperclip"
   ]
  },
  {
   "cell_type": "code",
   "execution_count": null,
   "id": "f671d346",
   "metadata": {},
   "outputs": [],
   "source": [
    "import tkinter as tk\n",
    "from tkinter import messagebox\n",
    "import random\n",
    "import string\n",
    "import pyperclip\n",
    "\n",
    "class PasswordGeneratorApp:\n",
    "    def __init__(self, root):\n",
    "        self.root = root\n",
    "        self.root.title(\"Password Generator\")\n",
    "\n",
    "        self.length_label = tk.Label(root, text=\"Password Length:\")\n",
    "        self.length_label.pack()\n",
    "\n",
    "        self.length_entry = tk.Entry(root)\n",
    "        self.length_entry.pack()\n",
    "\n",
    "        self.letters_var = tk.BooleanVar(value=True)\n",
    "        self.numbers_var = tk.BooleanVar(value=True)\n",
    "        self.symbols_var = tk.BooleanVar(value=False)\n",
    "\n",
    "        self.letters_check = tk.Checkbutton(root, text=\"Include Letters\", variable=self.letters_var)\n",
    "        self.letters_check.pack()\n",
    "\n",
    "        self.numbers_check = tk.Checkbutton(root, text=\"Include Numbers\", variable=self.numbers_var)\n",
    "        self.numbers_check.pack()\n",
    "\n",
    "        self.symbols_check = tk.Checkbutton(root, text=\"Include Symbols\", variable=self.symbols_var)\n",
    "        self.symbols_check.pack()\n",
    "\n",
    "        self.generate_button = tk.Button(root, text=\"Generate Password\", command=self.generate_password)\n",
    "        self.generate_button.pack()\n",
    "\n",
    "        self.password_display = tk.Entry(root, width=50)\n",
    "        self.password_display.pack()\n",
    "\n",
    "        self.copy_button = tk.Button(root, text=\"Copy to Clipboard\", command=self.copy_to_clipboard)\n",
    "        self.copy_button.pack()\n",
    "\n",
    "    def generate_password(self):\n",
    "        try:\n",
    "            length = int(self.length_entry.get())\n",
    "            use_letters = self.letters_var.get()\n",
    "            use_numbers = self.numbers_var.get()\n",
    "            use_symbols = self.symbols_var.get()\n",
    "\n",
    "            if length <= 0:\n",
    "                raise ValueError(\"Password length must be greater than 0.\")\n",
    "\n",
    "            characters = \"\"\n",
    "            if use_letters:\n",
    "                characters += string.ascii_letters\n",
    "            if use_numbers:\n",
    "                characters += string.digits\n",
    "            if use_symbols:\n",
    "                characters += string.punctuation\n",
    "\n",
    "            if not characters:\n",
    "                raise ValueError(\"At least one character set must be selected.\")\n",
    "\n",
    "            password = ''.join(random.choice(characters) for _ in range(length))\n",
    "            self.password_display.delete(0, tk.END)\n",
    "            self.password_display.insert(0, password)\n",
    "        except ValueError as e:\n",
    "            messagebox.showerror(\"Input Error\", str(e))\n",
    "\n",
    "    def copy_to_clipboard(self):\n",
    "        password = self.password_display.get()\n",
    "        pyperclip.copy(password)\n",
    "        messagebox.showinfo(\"Copied\", \"Password copied to clipboard!\")\n",
    "\n",
    "if __name__ == \"__main__\":\n",
    "    root = tk.Tk()\n",
    "    app = PasswordGeneratorApp(root)\n",
    "    root.mainloop()"
   ]
  },
  {
   "cell_type": "code",
   "execution_count": null,
   "id": "cec83234",
   "metadata": {},
   "outputs": [],
   "source": []
  }
 ],
 "metadata": {
  "kernelspec": {
   "display_name": "Python 3 (ipykernel)",
   "language": "python",
   "name": "python3"
  },
  "language_info": {
   "codemirror_mode": {
    "name": "ipython",
    "version": 3
   },
   "file_extension": ".py",
   "mimetype": "text/x-python",
   "name": "python",
   "nbconvert_exporter": "python",
   "pygments_lexer": "ipython3",
   "version": "3.9.13"
  }
 },
 "nbformat": 4,
 "nbformat_minor": 5
}
